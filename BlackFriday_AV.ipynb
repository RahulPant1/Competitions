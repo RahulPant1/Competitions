{
 "cells": [
  {
   "cell_type": "markdown",
   "metadata": {},
   "source": [
    "# Data Exploration"
   ]
  },
  {
   "cell_type": "code",
   "execution_count": 652,
   "metadata": {
    "collapsed": true
   },
   "outputs": [],
   "source": [
    "import pandas as pd\n",
    "import numpy as np\n",
    "import seaborn as sns\n",
    "import matplotlib.pyplot as plt\n",
    "%matplotlib inline\n",
    "from sklearn import preprocessing\n"
   ]
  },
  {
   "cell_type": "code",
   "execution_count": 653,
   "metadata": {
    "collapsed": true
   },
   "outputs": [],
   "source": [
    "df= pd.read_csv('train.csv')\n",
    "test=pd.read_csv('test.csv')"
   ]
  },
  {
   "cell_type": "markdown",
   "metadata": {},
   "source": []
  },
  {
   "cell_type": "markdown",
   "metadata": {},
   "source": [
    "Product Category 2 and Product Category 3 contains NaN's"
   ]
  },
  {
   "cell_type": "markdown",
   "metadata": {},
   "source": [
    "Number of Unique Elements across each available column"
   ]
  },
  {
   "cell_type": "code",
   "execution_count": 654,
   "metadata": {},
   "outputs": [
    {
     "data": {
      "text/plain": [
       "User_ID                        5891\n",
       "Product_ID                     3631\n",
       "Gender                            2\n",
       "Age                               7\n",
       "Occupation                       21\n",
       "City_Category                     3\n",
       "Stay_In_Current_City_Years        5\n",
       "Marital_Status                    2\n",
       "Product_Category_1               20\n",
       "Product_Category_2               17\n",
       "Product_Category_3               15\n",
       "Purchase                      18105\n",
       "dtype: int64"
      ]
     },
     "execution_count": 654,
     "metadata": {},
     "output_type": "execute_result"
    }
   ],
   "source": [
    "df.nunique()"
   ]
  },
  {
   "cell_type": "code",
   "execution_count": 655,
   "metadata": {},
   "outputs": [
    {
     "data": {
      "text/html": [
       "<div>\n",
       "<style>\n",
       "    .dataframe thead tr:only-child th {\n",
       "        text-align: right;\n",
       "    }\n",
       "\n",
       "    .dataframe thead th {\n",
       "        text-align: left;\n",
       "    }\n",
       "\n",
       "    .dataframe tbody tr th {\n",
       "        vertical-align: top;\n",
       "    }\n",
       "</style>\n",
       "<table border=\"1\" class=\"dataframe\">\n",
       "  <thead>\n",
       "    <tr style=\"text-align: right;\">\n",
       "      <th></th>\n",
       "      <th>Occupation</th>\n",
       "      <th>sum</th>\n",
       "      <th>count</th>\n",
       "      <th>AvgPurchaseByOccupation</th>\n",
       "    </tr>\n",
       "  </thead>\n",
       "  <tbody>\n",
       "    <tr>\n",
       "      <th>0</th>\n",
       "      <td>0</td>\n",
       "      <td>635406958</td>\n",
       "      <td>69638</td>\n",
       "      <td>9124.0</td>\n",
       "    </tr>\n",
       "    <tr>\n",
       "      <th>1</th>\n",
       "      <td>1</td>\n",
       "      <td>424614144</td>\n",
       "      <td>47426</td>\n",
       "      <td>8953.0</td>\n",
       "    </tr>\n",
       "    <tr>\n",
       "      <th>2</th>\n",
       "      <td>2</td>\n",
       "      <td>238028583</td>\n",
       "      <td>26588</td>\n",
       "      <td>8952.0</td>\n",
       "    </tr>\n",
       "    <tr>\n",
       "      <th>3</th>\n",
       "      <td>3</td>\n",
       "      <td>162002168</td>\n",
       "      <td>17650</td>\n",
       "      <td>9179.0</td>\n",
       "    </tr>\n",
       "    <tr>\n",
       "      <th>4</th>\n",
       "      <td>4</td>\n",
       "      <td>666244484</td>\n",
       "      <td>72308</td>\n",
       "      <td>9214.0</td>\n",
       "    </tr>\n",
       "  </tbody>\n",
       "</table>\n",
       "</div>"
      ],
      "text/plain": [
       "   Occupation        sum  count  AvgPurchaseByOccupation\n",
       "0           0  635406958  69638                   9124.0\n",
       "1           1  424614144  47426                   8953.0\n",
       "2           2  238028583  26588                   8952.0\n",
       "3           3  162002168  17650                   9179.0\n",
       "4           4  666244484  72308                   9214.0"
      ]
     },
     "execution_count": 655,
     "metadata": {},
     "output_type": "execute_result"
    }
   ],
   "source": [
    "#How is the Purchase distributed by Occupation\n",
    "occup_df=df.groupby(['Occupation'])['Purchase'].agg(['sum','count']).reset_index()\n",
    "occup_df['AvgPurchaseByOccupation']=(occup_df['sum']/occup_df['count']).round(0)\n",
    "occup_df.head()"
   ]
  },
  {
   "cell_type": "code",
   "execution_count": null,
   "metadata": {
    "collapsed": true
   },
   "outputs": [],
   "source": []
  },
  {
   "cell_type": "code",
   "execution_count": 656,
   "metadata": {},
   "outputs": [
    {
     "data": {
      "text/html": [
       "<div>\n",
       "<style>\n",
       "    .dataframe thead tr:only-child th {\n",
       "        text-align: right;\n",
       "    }\n",
       "\n",
       "    .dataframe thead th {\n",
       "        text-align: left;\n",
       "    }\n",
       "\n",
       "    .dataframe tbody tr th {\n",
       "        vertical-align: top;\n",
       "    }\n",
       "</style>\n",
       "<table border=\"1\" class=\"dataframe\">\n",
       "  <thead>\n",
       "    <tr style=\"text-align: right;\">\n",
       "      <th></th>\n",
       "      <th>Marital_Status</th>\n",
       "      <th>Gender</th>\n",
       "      <th>sum</th>\n",
       "      <th>count</th>\n",
       "      <th>PurchaseAvgByGenderStatus</th>\n",
       "    </tr>\n",
       "  </thead>\n",
       "  <tbody>\n",
       "    <tr>\n",
       "      <th>0</th>\n",
       "      <td>0</td>\n",
       "      <td>F</td>\n",
       "      <td>684154127</td>\n",
       "      <td>78821</td>\n",
       "      <td>8680.0</td>\n",
       "    </tr>\n",
       "    <tr>\n",
       "      <th>1</th>\n",
       "      <td>0</td>\n",
       "      <td>M</td>\n",
       "      <td>2324773320</td>\n",
       "      <td>245910</td>\n",
       "      <td>9454.0</td>\n",
       "    </tr>\n",
       "    <tr>\n",
       "      <th>2</th>\n",
       "      <td>1</td>\n",
       "      <td>F</td>\n",
       "      <td>502078515</td>\n",
       "      <td>56988</td>\n",
       "      <td>8810.0</td>\n",
       "    </tr>\n",
       "    <tr>\n",
       "      <th>3</th>\n",
       "      <td>1</td>\n",
       "      <td>M</td>\n",
       "      <td>1584806780</td>\n",
       "      <td>168349</td>\n",
       "      <td>9414.0</td>\n",
       "    </tr>\n",
       "  </tbody>\n",
       "</table>\n",
       "</div>"
      ],
      "text/plain": [
       "   Marital_Status Gender         sum   count  PurchaseAvgByGenderStatus\n",
       "0               0      F   684154127   78821                     8680.0\n",
       "1               0      M  2324773320  245910                     9454.0\n",
       "2               1      F   502078515   56988                     8810.0\n",
       "3               1      M  1584806780  168349                     9414.0"
      ]
     },
     "execution_count": 656,
     "metadata": {},
     "output_type": "execute_result"
    }
   ],
   "source": [
    "#Purchase Distribution by Gender and Marital Status\n",
    "gen_status_df=df.groupby(['Marital_Status','Gender'])['Purchase'].agg(['sum','count']).reset_index()\n",
    "gen_status_df['PurchaseAvgByGenderStatus']=(gen_status_df['sum']/gen_status_df['count']).round()\n",
    "gen_status_df\n",
    "#Average Purchase is higher in males and for female its relatively higher for married females"
   ]
  },
  {
   "cell_type": "code",
   "execution_count": null,
   "metadata": {
    "collapsed": true
   },
   "outputs": [],
   "source": []
  },
  {
   "cell_type": "code",
   "execution_count": 657,
   "metadata": {},
   "outputs": [
    {
     "data": {
      "text/html": [
       "<div>\n",
       "<style>\n",
       "    .dataframe thead tr:only-child th {\n",
       "        text-align: right;\n",
       "    }\n",
       "\n",
       "    .dataframe thead th {\n",
       "        text-align: left;\n",
       "    }\n",
       "\n",
       "    .dataframe tbody tr th {\n",
       "        vertical-align: top;\n",
       "    }\n",
       "</style>\n",
       "<table border=\"1\" class=\"dataframe\">\n",
       "  <thead>\n",
       "    <tr style=\"text-align: right;\">\n",
       "      <th></th>\n",
       "      <th>City_Category</th>\n",
       "      <th>sum</th>\n",
       "      <th>count</th>\n",
       "      <th>AvgPurchaseByCity</th>\n",
       "    </tr>\n",
       "  </thead>\n",
       "  <tbody>\n",
       "    <tr>\n",
       "      <th>0</th>\n",
       "      <td>A</td>\n",
       "      <td>1316471661</td>\n",
       "      <td>147720</td>\n",
       "      <td>8912.0</td>\n",
       "    </tr>\n",
       "    <tr>\n",
       "      <th>1</th>\n",
       "      <td>B</td>\n",
       "      <td>2115533605</td>\n",
       "      <td>231173</td>\n",
       "      <td>9151.0</td>\n",
       "    </tr>\n",
       "    <tr>\n",
       "      <th>2</th>\n",
       "      <td>C</td>\n",
       "      <td>1663807476</td>\n",
       "      <td>171175</td>\n",
       "      <td>9720.0</td>\n",
       "    </tr>\n",
       "  </tbody>\n",
       "</table>\n",
       "</div>"
      ],
      "text/plain": [
       "  City_Category         sum   count  AvgPurchaseByCity\n",
       "0             A  1316471661  147720             8912.0\n",
       "1             B  2115533605  231173             9151.0\n",
       "2             C  1663807476  171175             9720.0"
      ]
     },
     "execution_count": 657,
     "metadata": {},
     "output_type": "execute_result"
    }
   ],
   "source": [
    "#How is the Purchase distributed by City_Category\n",
    "citcat_df=df.groupby(['City_Category'])['Purchase'].agg(['sum','count']).reset_index()\n",
    "citcat_df['AvgPurchaseByCity']=(citcat_df['sum']/citcat_df['count']).round()\n",
    "citcat_df\n",
    "#Shows higher purchase in City C"
   ]
  },
  {
   "cell_type": "code",
   "execution_count": null,
   "metadata": {
    "collapsed": true
   },
   "outputs": [],
   "source": []
  },
  {
   "cell_type": "code",
   "execution_count": 658,
   "metadata": {},
   "outputs": [
    {
     "data": {
      "text/html": [
       "<div>\n",
       "<style>\n",
       "    .dataframe thead tr:only-child th {\n",
       "        text-align: right;\n",
       "    }\n",
       "\n",
       "    .dataframe thead th {\n",
       "        text-align: left;\n",
       "    }\n",
       "\n",
       "    .dataframe tbody tr th {\n",
       "        vertical-align: top;\n",
       "    }\n",
       "</style>\n",
       "<table border=\"1\" class=\"dataframe\">\n",
       "  <thead>\n",
       "    <tr style=\"text-align: right;\">\n",
       "      <th></th>\n",
       "      <th>Product_Category_1</th>\n",
       "      <th>TotalPurchase</th>\n",
       "      <th>SellCount</th>\n",
       "      <th>AvgPurchaseByProdCat</th>\n",
       "    </tr>\n",
       "  </thead>\n",
       "  <tbody>\n",
       "    <tr>\n",
       "      <th>0</th>\n",
       "      <td>1</td>\n",
       "      <td>1910013754</td>\n",
       "      <td>140378</td>\n",
       "      <td>13606.0</td>\n",
       "    </tr>\n",
       "    <tr>\n",
       "      <th>4</th>\n",
       "      <td>5</td>\n",
       "      <td>941835229</td>\n",
       "      <td>150933</td>\n",
       "      <td>6240.0</td>\n",
       "    </tr>\n",
       "    <tr>\n",
       "      <th>7</th>\n",
       "      <td>8</td>\n",
       "      <td>854318799</td>\n",
       "      <td>113925</td>\n",
       "      <td>7499.0</td>\n",
       "    </tr>\n",
       "    <tr>\n",
       "      <th>5</th>\n",
       "      <td>6</td>\n",
       "      <td>324150302</td>\n",
       "      <td>20466</td>\n",
       "      <td>15838.0</td>\n",
       "    </tr>\n",
       "    <tr>\n",
       "      <th>1</th>\n",
       "      <td>2</td>\n",
       "      <td>268516186</td>\n",
       "      <td>23864</td>\n",
       "      <td>11252.0</td>\n",
       "    </tr>\n",
       "  </tbody>\n",
       "</table>\n",
       "</div>"
      ],
      "text/plain": [
       "   Product_Category_1  TotalPurchase  SellCount  AvgPurchaseByProdCat\n",
       "0                   1     1910013754     140378               13606.0\n",
       "4                   5      941835229     150933                6240.0\n",
       "7                   8      854318799     113925                7499.0\n",
       "5                   6      324150302      20466               15838.0\n",
       "1                   2      268516186      23864               11252.0"
      ]
     },
     "execution_count": 658,
     "metadata": {},
     "output_type": "execute_result"
    }
   ],
   "source": [
    "#Products Distribution by Product_Category_1\n",
    "#df.groupby(['Product_Category_1'])['Product_ID','Purchase'].count().reset_index().rename(columns={'Product_ID':'SellCount'})\n",
    "\n",
    "prdcat1_df=df.groupby(['Product_Category_1'])['Product_ID','Purchase'].agg({'Product_ID':'count', 'Purchase':'sum'}).reset_index().rename(columns={'Product_ID':'SellCount','Purchase':'TotalPurchase'}).sort_values(['TotalPurchase'], ascending=False)\n",
    "prdcat1_df['AvgPurchaseByProdCat']=(prdcat1_df['TotalPurchase']/prdcat1_df['SellCount']).round(0)\n",
    "prdcat1_df.head()\n"
   ]
  },
  {
   "cell_type": "code",
   "execution_count": 659,
   "metadata": {},
   "outputs": [
    {
     "data": {
      "text/html": [
       "<div>\n",
       "<style>\n",
       "    .dataframe thead tr:only-child th {\n",
       "        text-align: right;\n",
       "    }\n",
       "\n",
       "    .dataframe thead th {\n",
       "        text-align: left;\n",
       "    }\n",
       "\n",
       "    .dataframe tbody tr th {\n",
       "        vertical-align: top;\n",
       "    }\n",
       "</style>\n",
       "<table border=\"1\" class=\"dataframe\">\n",
       "  <thead>\n",
       "    <tr style=\"text-align: right;\">\n",
       "      <th></th>\n",
       "      <th>Product_ID</th>\n",
       "      <th>MeanProdPurchase</th>\n",
       "    </tr>\n",
       "  </thead>\n",
       "  <tbody>\n",
       "    <tr>\n",
       "      <th>0</th>\n",
       "      <td>P00000142</td>\n",
       "      <td>11143.642361</td>\n",
       "    </tr>\n",
       "    <tr>\n",
       "      <th>1</th>\n",
       "      <td>P00000242</td>\n",
       "      <td>10551.851064</td>\n",
       "    </tr>\n",
       "    <tr>\n",
       "      <th>2</th>\n",
       "      <td>P00000342</td>\n",
       "      <td>5313.422131</td>\n",
       "    </tr>\n",
       "    <tr>\n",
       "      <th>3</th>\n",
       "      <td>P00000442</td>\n",
       "      <td>4795.358696</td>\n",
       "    </tr>\n",
       "    <tr>\n",
       "      <th>4</th>\n",
       "      <td>P00000542</td>\n",
       "      <td>5417.530201</td>\n",
       "    </tr>\n",
       "  </tbody>\n",
       "</table>\n",
       "</div>"
      ],
      "text/plain": [
       "  Product_ID  MeanProdPurchase\n",
       "0  P00000142      11143.642361\n",
       "1  P00000242      10551.851064\n",
       "2  P00000342       5313.422131\n",
       "3  P00000442       4795.358696\n",
       "4  P00000542       5417.530201"
      ]
     },
     "execution_count": 659,
     "metadata": {},
     "output_type": "execute_result"
    }
   ],
   "source": [
    "# Find Average Product Purchase Amount to add \n",
    "product_avg_purchase=df.groupby(['Product_ID'])['Purchase'].mean().reset_index().rename(columns={'Purchase':'MeanProdPurchase'})\n",
    "product_avg_purchase.head()\n"
   ]
  },
  {
   "cell_type": "code",
   "execution_count": 660,
   "metadata": {},
   "outputs": [
    {
     "data": {
      "text/html": [
       "<div>\n",
       "<style>\n",
       "    .dataframe thead tr:only-child th {\n",
       "        text-align: right;\n",
       "    }\n",
       "\n",
       "    .dataframe thead th {\n",
       "        text-align: left;\n",
       "    }\n",
       "\n",
       "    .dataframe tbody tr th {\n",
       "        vertical-align: top;\n",
       "    }\n",
       "</style>\n",
       "<table border=\"1\" class=\"dataframe\">\n",
       "  <thead>\n",
       "    <tr style=\"text-align: right;\">\n",
       "      <th></th>\n",
       "      <th>User_ID</th>\n",
       "      <th>AvgUserPurchase</th>\n",
       "    </tr>\n",
       "  </thead>\n",
       "  <tbody>\n",
       "    <tr>\n",
       "      <th>0</th>\n",
       "      <td>1000001</td>\n",
       "      <td>9545.514286</td>\n",
       "    </tr>\n",
       "    <tr>\n",
       "      <th>1</th>\n",
       "      <td>1000002</td>\n",
       "      <td>10525.610390</td>\n",
       "    </tr>\n",
       "    <tr>\n",
       "      <th>2</th>\n",
       "      <td>1000003</td>\n",
       "      <td>11780.517241</td>\n",
       "    </tr>\n",
       "    <tr>\n",
       "      <th>3</th>\n",
       "      <td>1000004</td>\n",
       "      <td>14747.714286</td>\n",
       "    </tr>\n",
       "    <tr>\n",
       "      <th>4</th>\n",
       "      <td>1000005</td>\n",
       "      <td>7745.292453</td>\n",
       "    </tr>\n",
       "  </tbody>\n",
       "</table>\n",
       "</div>"
      ],
      "text/plain": [
       "   User_ID  AvgUserPurchase\n",
       "0  1000001      9545.514286\n",
       "1  1000002     10525.610390\n",
       "2  1000003     11780.517241\n",
       "3  1000004     14747.714286\n",
       "4  1000005      7745.292453"
      ]
     },
     "execution_count": 660,
     "metadata": {},
     "output_type": "execute_result"
    }
   ],
   "source": [
    "# Find Average  Purchase Amount by User for Binning Purpose\n",
    "user_avg_purchase=df.groupby(['User_ID'])['Purchase'].mean().reset_index().rename(columns={'Purchase':'AvgUserPurchase'})\n",
    "user_avg_purchase.head()\n"
   ]
  },
  {
   "cell_type": "code",
   "execution_count": null,
   "metadata": {
    "collapsed": true
   },
   "outputs": [],
   "source": []
  },
  {
   "cell_type": "code",
   "execution_count": 661,
   "metadata": {},
   "outputs": [
    {
     "data": {
      "text/html": [
       "<div>\n",
       "<style>\n",
       "    .dataframe thead tr:only-child th {\n",
       "        text-align: right;\n",
       "    }\n",
       "\n",
       "    .dataframe thead th {\n",
       "        text-align: left;\n",
       "    }\n",
       "\n",
       "    .dataframe tbody tr th {\n",
       "        vertical-align: top;\n",
       "    }\n",
       "</style>\n",
       "<table border=\"1\" class=\"dataframe\">\n",
       "  <thead>\n",
       "    <tr style=\"text-align: right;\">\n",
       "      <th></th>\n",
       "      <th>User_ID</th>\n",
       "      <th>Product_ID</th>\n",
       "      <th>Gender</th>\n",
       "      <th>Age</th>\n",
       "      <th>Occupation</th>\n",
       "      <th>City_Category</th>\n",
       "      <th>Stay_In_Current_City_Years</th>\n",
       "      <th>Marital_Status</th>\n",
       "      <th>Product_Category_1</th>\n",
       "      <th>Product_Category_2</th>\n",
       "      <th>Product_Category_3</th>\n",
       "      <th>Purchase</th>\n",
       "      <th>AvgPurchaseByOccupation</th>\n",
       "      <th>PurchaseAvgByGenderStatus</th>\n",
       "      <th>AvgPurchaseByCity</th>\n",
       "      <th>AvgPurchaseByProdCat</th>\n",
       "      <th>MeanProdPurchase</th>\n",
       "      <th>AvgUserPurchase</th>\n",
       "    </tr>\n",
       "  </thead>\n",
       "  <tbody>\n",
       "    <tr>\n",
       "      <th>0</th>\n",
       "      <td>1000001</td>\n",
       "      <td>P00069042</td>\n",
       "      <td>F</td>\n",
       "      <td>0-17</td>\n",
       "      <td>10</td>\n",
       "      <td>A</td>\n",
       "      <td>2</td>\n",
       "      <td>0</td>\n",
       "      <td>3</td>\n",
       "      <td>NaN</td>\n",
       "      <td>NaN</td>\n",
       "      <td>8370</td>\n",
       "      <td>8959.0</td>\n",
       "      <td>8680.0</td>\n",
       "      <td>8912.0</td>\n",
       "      <td>10097.0</td>\n",
       "      <td>11870.863436</td>\n",
       "      <td>9545.514286</td>\n",
       "    </tr>\n",
       "    <tr>\n",
       "      <th>1</th>\n",
       "      <td>1000001</td>\n",
       "      <td>P00248942</td>\n",
       "      <td>F</td>\n",
       "      <td>0-17</td>\n",
       "      <td>10</td>\n",
       "      <td>A</td>\n",
       "      <td>2</td>\n",
       "      <td>0</td>\n",
       "      <td>1</td>\n",
       "      <td>6.0</td>\n",
       "      <td>14.0</td>\n",
       "      <td>15200</td>\n",
       "      <td>8959.0</td>\n",
       "      <td>8680.0</td>\n",
       "      <td>8912.0</td>\n",
       "      <td>13606.0</td>\n",
       "      <td>16304.030981</td>\n",
       "      <td>9545.514286</td>\n",
       "    </tr>\n",
       "    <tr>\n",
       "      <th>2</th>\n",
       "      <td>1000001</td>\n",
       "      <td>P00087842</td>\n",
       "      <td>F</td>\n",
       "      <td>0-17</td>\n",
       "      <td>10</td>\n",
       "      <td>A</td>\n",
       "      <td>2</td>\n",
       "      <td>0</td>\n",
       "      <td>12</td>\n",
       "      <td>NaN</td>\n",
       "      <td>NaN</td>\n",
       "      <td>1422</td>\n",
       "      <td>8959.0</td>\n",
       "      <td>8680.0</td>\n",
       "      <td>8912.0</td>\n",
       "      <td>1351.0</td>\n",
       "      <td>1237.892157</td>\n",
       "      <td>9545.514286</td>\n",
       "    </tr>\n",
       "    <tr>\n",
       "      <th>3</th>\n",
       "      <td>1000001</td>\n",
       "      <td>P00085442</td>\n",
       "      <td>F</td>\n",
       "      <td>0-17</td>\n",
       "      <td>10</td>\n",
       "      <td>A</td>\n",
       "      <td>2</td>\n",
       "      <td>0</td>\n",
       "      <td>12</td>\n",
       "      <td>14.0</td>\n",
       "      <td>NaN</td>\n",
       "      <td>1057</td>\n",
       "      <td>8959.0</td>\n",
       "      <td>8680.0</td>\n",
       "      <td>8912.0</td>\n",
       "      <td>1351.0</td>\n",
       "      <td>1455.140762</td>\n",
       "      <td>9545.514286</td>\n",
       "    </tr>\n",
       "    <tr>\n",
       "      <th>4</th>\n",
       "      <td>1000002</td>\n",
       "      <td>P00285442</td>\n",
       "      <td>M</td>\n",
       "      <td>55+</td>\n",
       "      <td>16</td>\n",
       "      <td>C</td>\n",
       "      <td>4+</td>\n",
       "      <td>0</td>\n",
       "      <td>8</td>\n",
       "      <td>NaN</td>\n",
       "      <td>NaN</td>\n",
       "      <td>7969</td>\n",
       "      <td>9394.0</td>\n",
       "      <td>9454.0</td>\n",
       "      <td>9720.0</td>\n",
       "      <td>7499.0</td>\n",
       "      <td>7692.763547</td>\n",
       "      <td>10525.610390</td>\n",
       "    </tr>\n",
       "  </tbody>\n",
       "</table>\n",
       "</div>"
      ],
      "text/plain": [
       "   User_ID Product_ID Gender   Age  Occupation City_Category  \\\n",
       "0  1000001  P00069042      F  0-17          10             A   \n",
       "1  1000001  P00248942      F  0-17          10             A   \n",
       "2  1000001  P00087842      F  0-17          10             A   \n",
       "3  1000001  P00085442      F  0-17          10             A   \n",
       "4  1000002  P00285442      M   55+          16             C   \n",
       "\n",
       "  Stay_In_Current_City_Years  Marital_Status  Product_Category_1  \\\n",
       "0                          2               0                   3   \n",
       "1                          2               0                   1   \n",
       "2                          2               0                  12   \n",
       "3                          2               0                  12   \n",
       "4                         4+               0                   8   \n",
       "\n",
       "   Product_Category_2  Product_Category_3  Purchase  AvgPurchaseByOccupation  \\\n",
       "0                 NaN                 NaN      8370                   8959.0   \n",
       "1                 6.0                14.0     15200                   8959.0   \n",
       "2                 NaN                 NaN      1422                   8959.0   \n",
       "3                14.0                 NaN      1057                   8959.0   \n",
       "4                 NaN                 NaN      7969                   9394.0   \n",
       "\n",
       "   PurchaseAvgByGenderStatus  AvgPurchaseByCity  AvgPurchaseByProdCat  \\\n",
       "0                     8680.0             8912.0               10097.0   \n",
       "1                     8680.0             8912.0               13606.0   \n",
       "2                     8680.0             8912.0                1351.0   \n",
       "3                     8680.0             8912.0                1351.0   \n",
       "4                     9454.0             9720.0                7499.0   \n",
       "\n",
       "   MeanProdPurchase  AvgUserPurchase  \n",
       "0      11870.863436      9545.514286  \n",
       "1      16304.030981      9545.514286  \n",
       "2       1237.892157      9545.514286  \n",
       "3       1455.140762      9545.514286  \n",
       "4       7692.763547     10525.610390  "
      ]
     },
     "execution_count": 661,
     "metadata": {},
     "output_type": "execute_result"
    }
   ],
   "source": [
    "#Merge the Occupation Avg Purchase\n",
    "temp=pd.merge(df,occup_df[['Occupation','AvgPurchaseByOccupation']],how='left',on=['Occupation'])\n",
    "temp=pd.merge(temp,gen_status_df[['Marital_Status','Gender','PurchaseAvgByGenderStatus']],how='left',on=['Marital_Status','Gender'])\n",
    "#temp.head()\n",
    "\n",
    "temp=pd.merge(temp,citcat_df[['City_Category','AvgPurchaseByCity']],how='left',on=['City_Category'])\n",
    "#temp.columns\n",
    "\n",
    "temp=pd.merge(temp,prdcat1_df[['Product_Category_1','AvgPurchaseByProdCat']],how='left',on=['Product_Category_1'])\n",
    "temp.head()\n",
    "\n",
    "temp=pd.merge(temp,product_avg_purchase, on=['Product_ID'],how='left')\n",
    "\n",
    "temp=pd.merge(temp,user_avg_purchase, on=['User_ID'],how='left')\n",
    "temp.head()"
   ]
  },
  {
   "cell_type": "code",
   "execution_count": 648,
   "metadata": {},
   "outputs": [],
   "source": [
    "def ProdPurchaseHighLabel(x,y):\n",
    "    if x<=y:\n",
    "        PurchaseHigh=0\n",
    "    elif x> 3 * y:\n",
    "        PurchaseHigh=3\n",
    "    elif x>2*y:\n",
    "        PurchaseHigh=2\n",
    "    elif x>y:\n",
    "        PurchaseHigh=1\n",
    "    return PurchaseHigh\n",
    "\n",
    "#temp['ProdPurchHigherThanMean']=temp.apply(lambda x: ProdPurchaseHighLabel(x['Purchase'],x['MeanProdPurchase']),axis=1)\n",
    "    "
   ]
  },
  {
   "cell_type": "code",
   "execution_count": null,
   "metadata": {
    "collapsed": true
   },
   "outputs": [],
   "source": [
    "temp['ProdPurchHigherThanMean'].describe()\n",
    "#Create a userId ,ProductID and ProdPurchHigherThanMean data frame\n",
    "userprodhigh=temp[['User_ID','Product_ID','ProdPurchHigherThanMean']]\n",
    "#userprodhigh=(userprodhigh.drop_duplicates(inplace=True))\n",
    "#Could nto map as there were no matching user,product comnbintion in test vs train?"
   ]
  },
  {
   "cell_type": "code",
   "execution_count": 582,
   "metadata": {},
   "outputs": [],
   "source": []
  },
  {
   "cell_type": "code",
   "execution_count": 662,
   "metadata": {},
   "outputs": [
    {
     "data": {
      "text/html": [
       "<div>\n",
       "<style>\n",
       "    .dataframe thead tr:only-child th {\n",
       "        text-align: right;\n",
       "    }\n",
       "\n",
       "    .dataframe thead th {\n",
       "        text-align: left;\n",
       "    }\n",
       "\n",
       "    .dataframe tbody tr th {\n",
       "        vertical-align: top;\n",
       "    }\n",
       "</style>\n",
       "<table border=\"1\" class=\"dataframe\">\n",
       "  <thead>\n",
       "    <tr style=\"text-align: right;\">\n",
       "      <th></th>\n",
       "      <th>User_ID</th>\n",
       "      <th>Product_ID</th>\n",
       "      <th>Gender</th>\n",
       "      <th>Age</th>\n",
       "      <th>Occupation</th>\n",
       "      <th>City_Category</th>\n",
       "      <th>Stay_In_Current_City_Years</th>\n",
       "      <th>Marital_Status</th>\n",
       "      <th>Product_Category_1</th>\n",
       "      <th>Product_Category_2</th>\n",
       "      <th>Product_Category_3</th>\n",
       "      <th>AvgPurchaseByOccupation</th>\n",
       "      <th>PurchaseAvgByGenderStatus</th>\n",
       "      <th>AvgPurchaseByCity</th>\n",
       "      <th>AvgPurchaseByProdCat</th>\n",
       "      <th>MeanProdPurchase</th>\n",
       "      <th>AvgUserPurchase</th>\n",
       "    </tr>\n",
       "  </thead>\n",
       "  <tbody>\n",
       "    <tr>\n",
       "      <th>0</th>\n",
       "      <td>1000004</td>\n",
       "      <td>P00128942</td>\n",
       "      <td>M</td>\n",
       "      <td>46-50</td>\n",
       "      <td>7</td>\n",
       "      <td>B</td>\n",
       "      <td>2</td>\n",
       "      <td>1</td>\n",
       "      <td>1</td>\n",
       "      <td>11.0</td>\n",
       "      <td>NaN</td>\n",
       "      <td>9426.0</td>\n",
       "      <td>9414.0</td>\n",
       "      <td>9151.0</td>\n",
       "      <td>13606.0</td>\n",
       "      <td>15781.118590</td>\n",
       "      <td>14747.714286</td>\n",
       "    </tr>\n",
       "    <tr>\n",
       "      <th>1</th>\n",
       "      <td>1000009</td>\n",
       "      <td>P00113442</td>\n",
       "      <td>M</td>\n",
       "      <td>26-35</td>\n",
       "      <td>17</td>\n",
       "      <td>C</td>\n",
       "      <td>0</td>\n",
       "      <td>0</td>\n",
       "      <td>3</td>\n",
       "      <td>5.0</td>\n",
       "      <td>NaN</td>\n",
       "      <td>9821.0</td>\n",
       "      <td>9454.0</td>\n",
       "      <td>9720.0</td>\n",
       "      <td>10097.0</td>\n",
       "      <td>11746.665354</td>\n",
       "      <td>10243.086207</td>\n",
       "    </tr>\n",
       "    <tr>\n",
       "      <th>2</th>\n",
       "      <td>1000010</td>\n",
       "      <td>P00288442</td>\n",
       "      <td>F</td>\n",
       "      <td>36-45</td>\n",
       "      <td>1</td>\n",
       "      <td>B</td>\n",
       "      <td>4+</td>\n",
       "      <td>1</td>\n",
       "      <td>5</td>\n",
       "      <td>14.0</td>\n",
       "      <td>NaN</td>\n",
       "      <td>8953.0</td>\n",
       "      <td>8810.0</td>\n",
       "      <td>9151.0</td>\n",
       "      <td>6240.0</td>\n",
       "      <td>5731.338028</td>\n",
       "      <td>9728.744395</td>\n",
       "    </tr>\n",
       "    <tr>\n",
       "      <th>3</th>\n",
       "      <td>1000010</td>\n",
       "      <td>P00145342</td>\n",
       "      <td>F</td>\n",
       "      <td>36-45</td>\n",
       "      <td>1</td>\n",
       "      <td>B</td>\n",
       "      <td>4+</td>\n",
       "      <td>1</td>\n",
       "      <td>4</td>\n",
       "      <td>9.0</td>\n",
       "      <td>NaN</td>\n",
       "      <td>8953.0</td>\n",
       "      <td>8810.0</td>\n",
       "      <td>9151.0</td>\n",
       "      <td>2330.0</td>\n",
       "      <td>1943.266667</td>\n",
       "      <td>9728.744395</td>\n",
       "    </tr>\n",
       "    <tr>\n",
       "      <th>4</th>\n",
       "      <td>1000011</td>\n",
       "      <td>P00053842</td>\n",
       "      <td>F</td>\n",
       "      <td>26-35</td>\n",
       "      <td>1</td>\n",
       "      <td>C</td>\n",
       "      <td>1</td>\n",
       "      <td>0</td>\n",
       "      <td>4</td>\n",
       "      <td>5.0</td>\n",
       "      <td>12.0</td>\n",
       "      <td>8953.0</td>\n",
       "      <td>8680.0</td>\n",
       "      <td>9720.0</td>\n",
       "      <td>2330.0</td>\n",
       "      <td>2585.590829</td>\n",
       "      <td>7957.471429</td>\n",
       "    </tr>\n",
       "  </tbody>\n",
       "</table>\n",
       "</div>"
      ],
      "text/plain": [
       "   User_ID Product_ID Gender    Age  Occupation City_Category  \\\n",
       "0  1000004  P00128942      M  46-50           7             B   \n",
       "1  1000009  P00113442      M  26-35          17             C   \n",
       "2  1000010  P00288442      F  36-45           1             B   \n",
       "3  1000010  P00145342      F  36-45           1             B   \n",
       "4  1000011  P00053842      F  26-35           1             C   \n",
       "\n",
       "  Stay_In_Current_City_Years  Marital_Status  Product_Category_1  \\\n",
       "0                          2               1                   1   \n",
       "1                          0               0                   3   \n",
       "2                         4+               1                   5   \n",
       "3                         4+               1                   4   \n",
       "4                          1               0                   4   \n",
       "\n",
       "   Product_Category_2  Product_Category_3  AvgPurchaseByOccupation  \\\n",
       "0                11.0                 NaN                   9426.0   \n",
       "1                 5.0                 NaN                   9821.0   \n",
       "2                14.0                 NaN                   8953.0   \n",
       "3                 9.0                 NaN                   8953.0   \n",
       "4                 5.0                12.0                   8953.0   \n",
       "\n",
       "   PurchaseAvgByGenderStatus  AvgPurchaseByCity  AvgPurchaseByProdCat  \\\n",
       "0                     9414.0             9151.0               13606.0   \n",
       "1                     9454.0             9720.0               10097.0   \n",
       "2                     8810.0             9151.0                6240.0   \n",
       "3                     8810.0             9151.0                2330.0   \n",
       "4                     8680.0             9720.0                2330.0   \n",
       "\n",
       "   MeanProdPurchase  AvgUserPurchase  \n",
       "0      15781.118590     14747.714286  \n",
       "1      11746.665354     10243.086207  \n",
       "2       5731.338028      9728.744395  \n",
       "3       1943.266667      9728.744395  \n",
       "4       2585.590829      7957.471429  "
      ]
     },
     "execution_count": 662,
     "metadata": {},
     "output_type": "execute_result"
    }
   ],
   "source": [
    "#For Test Data\n",
    "#Merge the Occupation Avg Purchase\n",
    "testdf=pd.merge(test,occup_df[['Occupation','AvgPurchaseByOccupation']],how='left',on=['Occupation'])\n",
    "testdf=pd.merge(testdf,gen_status_df[['Marital_Status','Gender','PurchaseAvgByGenderStatus']],how='left',on=['Marital_Status','Gender'])\n",
    "#temp.head()\n",
    "\n",
    "testdf=pd.merge(testdf,citcat_df[['City_Category','AvgPurchaseByCity']],how='left',on=['City_Category'])\n",
    "#temp.columns\n",
    "\n",
    "testdf=pd.merge(testdf,prdcat1_df[['Product_Category_1','AvgPurchaseByProdCat']],how='left',on=['Product_Category_1'])\n",
    "\n",
    "\n",
    "testdf=pd.merge(testdf,product_avg_purchase, on=['Product_ID'],how='left')\n",
    "\n",
    "testdf=pd.merge(testdf,user_avg_purchase, on=['User_ID'],how='left')\n",
    "\n",
    "testdf.head()"
   ]
  },
  {
   "cell_type": "code",
   "execution_count": 663,
   "metadata": {},
   "outputs": [
    {
     "data": {
      "text/plain": [
       "Index([u'User_ID', u'Product_ID', u'Gender', u'Age', u'Occupation',\n",
       "       u'City_Category', u'Stay_In_Current_City_Years', u'Marital_Status',\n",
       "       u'Product_Category_1', u'Product_Category_2', u'Product_Category_3',\n",
       "       u'AvgPurchaseByOccupation', u'PurchaseAvgByGenderStatus',\n",
       "       u'AvgPurchaseByCity', u'AvgPurchaseByProdCat', u'MeanProdPurchase',\n",
       "       u'AvgUserPurchase'],\n",
       "      dtype='object')"
      ]
     },
     "execution_count": 663,
     "metadata": {},
     "output_type": "execute_result"
    }
   ],
   "source": [
    "testdf.columns"
   ]
  },
  {
   "cell_type": "code",
   "execution_count": 603,
   "metadata": {},
   "outputs": [],
   "source": [
    "#new=pd.merge(testdf,userprodhigh[['User_ID', 'Product_ID', 'ProdPurchHigherThanMean']], on=['User_ID','Product_ID'],how='left')\n",
    "#userprodhigh.columns\n",
    "#userprodhigh[userprodhigh['User_ID']==1000010]"
   ]
  },
  {
   "cell_type": "markdown",
   "metadata": {},
   "source": [
    "Number of Null Entries in Data"
   ]
  },
  {
   "cell_type": "code",
   "execution_count": 15,
   "metadata": {},
   "outputs": [
    {
     "data": {
      "text/plain": [
       "array([ nan,   6.,  14.,   2.,   8.,  15.,  16.,  11.,   5.,   3.,   4.,\n",
       "        12.,   9.,  10.,  17.,  13.,   7.,  18.])"
      ]
     },
     "execution_count": 15,
     "metadata": {},
     "output_type": "execute_result"
    }
   ],
   "source": [
    "df['Product_Category_2'].unique()"
   ]
  },
  {
   "cell_type": "code",
   "execution_count": 641,
   "metadata": {
    "collapsed": true
   },
   "outputs": [],
   "source": [
    "# Drop NULL values related columns for now i.e Product_Category_2 and Product_Category_3\n",
    "df1=temp.copy()\n",
    "df1.drop(['Product_Category_2','Product_Category_3'],axis=1,inplace=True)\n",
    "test1=testdf.copy()\n",
    "test1.drop(['Product_Category_2','Product_Category_3'],axis=1,inplace=True)"
   ]
  },
  {
   "cell_type": "code",
   "execution_count": 646,
   "metadata": {},
   "outputs": [
    {
     "name": "stdout",
     "output_type": "stream",
     "text": [
      "<class 'pandas.core.frame.DataFrame'>\n",
      "Int64Index: 550068 entries, 0 to 550067\n",
      "Data columns (total 16 columns):\n",
      "User_ID                       550068 non-null int64\n",
      "Product_ID                    550068 non-null object\n",
      "Gender                        550068 non-null object\n",
      "Age                           550068 non-null object\n",
      "Occupation                    550068 non-null int64\n",
      "City_Category                 550068 non-null object\n",
      "Stay_In_Current_City_Years    550068 non-null object\n",
      "Marital_Status                550068 non-null int64\n",
      "Product_Category_1            550068 non-null int64\n",
      "Purchase                      550068 non-null int64\n",
      "AvgPurchaseByOccupation       550068 non-null float64\n",
      "PurchaseAvgByGenderStatus     550068 non-null float64\n",
      "AvgPurchaseByCity             550068 non-null float64\n",
      "AvgPurchaseByProdCat          550068 non-null float64\n",
      "MeanProdPurchase              550068 non-null float64\n",
      "AvgUserPurchase               550068 non-null float64\n",
      "dtypes: float64(6), int64(5), object(5)\n",
      "memory usage: 71.3+ MB\n"
     ]
    }
   ],
   "source": [
    "df1.info()"
   ]
  },
  {
   "cell_type": "code",
   "execution_count": 645,
   "metadata": {},
   "outputs": [
    {
     "data": {
      "text/html": [
       "<div>\n",
       "<style>\n",
       "    .dataframe thead tr:only-child th {\n",
       "        text-align: right;\n",
       "    }\n",
       "\n",
       "    .dataframe thead th {\n",
       "        text-align: left;\n",
       "    }\n",
       "\n",
       "    .dataframe tbody tr th {\n",
       "        vertical-align: top;\n",
       "    }\n",
       "</style>\n",
       "<table border=\"1\" class=\"dataframe\">\n",
       "  <thead>\n",
       "    <tr style=\"text-align: right;\">\n",
       "      <th></th>\n",
       "      <th>User_ID</th>\n",
       "      <th>Product_ID</th>\n",
       "      <th>Gender</th>\n",
       "      <th>Age</th>\n",
       "      <th>Occupation</th>\n",
       "      <th>City_Category</th>\n",
       "      <th>Stay_In_Current_City_Years</th>\n",
       "      <th>Marital_Status</th>\n",
       "      <th>Product_Category_1</th>\n",
       "      <th>Purchase</th>\n",
       "      <th>AvgPurchaseByOccupation</th>\n",
       "      <th>PurchaseAvgByGenderStatus</th>\n",
       "      <th>AvgPurchaseByCity</th>\n",
       "      <th>AvgPurchaseByProdCat</th>\n",
       "      <th>MeanProdPurchase</th>\n",
       "      <th>AvgUserPurchase</th>\n",
       "    </tr>\n",
       "  </thead>\n",
       "  <tbody>\n",
       "    <tr>\n",
       "      <th>0</th>\n",
       "      <td>1000001</td>\n",
       "      <td>P00069042</td>\n",
       "      <td>F</td>\n",
       "      <td>0-17</td>\n",
       "      <td>10</td>\n",
       "      <td>A</td>\n",
       "      <td>2</td>\n",
       "      <td>0</td>\n",
       "      <td>3</td>\n",
       "      <td>8370</td>\n",
       "      <td>8959.0</td>\n",
       "      <td>8680.0</td>\n",
       "      <td>8912.0</td>\n",
       "      <td>10097.0</td>\n",
       "      <td>11870.863436</td>\n",
       "      <td>9545.514286</td>\n",
       "    </tr>\n",
       "    <tr>\n",
       "      <th>1</th>\n",
       "      <td>1000001</td>\n",
       "      <td>P00248942</td>\n",
       "      <td>F</td>\n",
       "      <td>0-17</td>\n",
       "      <td>10</td>\n",
       "      <td>A</td>\n",
       "      <td>2</td>\n",
       "      <td>0</td>\n",
       "      <td>1</td>\n",
       "      <td>15200</td>\n",
       "      <td>8959.0</td>\n",
       "      <td>8680.0</td>\n",
       "      <td>8912.0</td>\n",
       "      <td>13606.0</td>\n",
       "      <td>16304.030981</td>\n",
       "      <td>9545.514286</td>\n",
       "    </tr>\n",
       "    <tr>\n",
       "      <th>2</th>\n",
       "      <td>1000001</td>\n",
       "      <td>P00087842</td>\n",
       "      <td>F</td>\n",
       "      <td>0-17</td>\n",
       "      <td>10</td>\n",
       "      <td>A</td>\n",
       "      <td>2</td>\n",
       "      <td>0</td>\n",
       "      <td>12</td>\n",
       "      <td>1422</td>\n",
       "      <td>8959.0</td>\n",
       "      <td>8680.0</td>\n",
       "      <td>8912.0</td>\n",
       "      <td>1351.0</td>\n",
       "      <td>1237.892157</td>\n",
       "      <td>9545.514286</td>\n",
       "    </tr>\n",
       "    <tr>\n",
       "      <th>3</th>\n",
       "      <td>1000001</td>\n",
       "      <td>P00085442</td>\n",
       "      <td>F</td>\n",
       "      <td>0-17</td>\n",
       "      <td>10</td>\n",
       "      <td>A</td>\n",
       "      <td>2</td>\n",
       "      <td>0</td>\n",
       "      <td>12</td>\n",
       "      <td>1057</td>\n",
       "      <td>8959.0</td>\n",
       "      <td>8680.0</td>\n",
       "      <td>8912.0</td>\n",
       "      <td>1351.0</td>\n",
       "      <td>1455.140762</td>\n",
       "      <td>9545.514286</td>\n",
       "    </tr>\n",
       "    <tr>\n",
       "      <th>4</th>\n",
       "      <td>1000002</td>\n",
       "      <td>P00285442</td>\n",
       "      <td>M</td>\n",
       "      <td>55+</td>\n",
       "      <td>16</td>\n",
       "      <td>C</td>\n",
       "      <td>4+</td>\n",
       "      <td>0</td>\n",
       "      <td>8</td>\n",
       "      <td>7969</td>\n",
       "      <td>9394.0</td>\n",
       "      <td>9454.0</td>\n",
       "      <td>9720.0</td>\n",
       "      <td>7499.0</td>\n",
       "      <td>7692.763547</td>\n",
       "      <td>10525.610390</td>\n",
       "    </tr>\n",
       "  </tbody>\n",
       "</table>\n",
       "</div>"
      ],
      "text/plain": [
       "   User_ID Product_ID Gender   Age  Occupation City_Category  \\\n",
       "0  1000001  P00069042      F  0-17          10             A   \n",
       "1  1000001  P00248942      F  0-17          10             A   \n",
       "2  1000001  P00087842      F  0-17          10             A   \n",
       "3  1000001  P00085442      F  0-17          10             A   \n",
       "4  1000002  P00285442      M   55+          16             C   \n",
       "\n",
       "  Stay_In_Current_City_Years  Marital_Status  Product_Category_1  Purchase  \\\n",
       "0                          2               0                   3      8370   \n",
       "1                          2               0                   1     15200   \n",
       "2                          2               0                  12      1422   \n",
       "3                          2               0                  12      1057   \n",
       "4                         4+               0                   8      7969   \n",
       "\n",
       "   AvgPurchaseByOccupation  PurchaseAvgByGenderStatus  AvgPurchaseByCity  \\\n",
       "0                   8959.0                     8680.0             8912.0   \n",
       "1                   8959.0                     8680.0             8912.0   \n",
       "2                   8959.0                     8680.0             8912.0   \n",
       "3                   8959.0                     8680.0             8912.0   \n",
       "4                   9394.0                     9454.0             9720.0   \n",
       "\n",
       "   AvgPurchaseByProdCat  MeanProdPurchase  AvgUserPurchase  \n",
       "0               10097.0      11870.863436      9545.514286  \n",
       "1               13606.0      16304.030981      9545.514286  \n",
       "2                1351.0       1237.892157      9545.514286  \n",
       "3                1351.0       1455.140762      9545.514286  \n",
       "4                7499.0       7692.763547     10525.610390  "
      ]
     },
     "execution_count": 645,
     "metadata": {},
     "output_type": "execute_result"
    }
   ],
   "source": [
    "df1.head()"
   ]
  },
  {
   "cell_type": "code",
   "execution_count": 644,
   "metadata": {},
   "outputs": [
    {
     "data": {
      "text/html": [
       "<div>\n",
       "<style>\n",
       "    .dataframe thead tr:only-child th {\n",
       "        text-align: right;\n",
       "    }\n",
       "\n",
       "    .dataframe thead th {\n",
       "        text-align: left;\n",
       "    }\n",
       "\n",
       "    .dataframe tbody tr th {\n",
       "        vertical-align: top;\n",
       "    }\n",
       "</style>\n",
       "<table border=\"1\" class=\"dataframe\">\n",
       "  <thead>\n",
       "    <tr style=\"text-align: right;\">\n",
       "      <th></th>\n",
       "      <th>User_ID</th>\n",
       "      <th>Product_ID</th>\n",
       "      <th>Gender</th>\n",
       "      <th>Age</th>\n",
       "      <th>Occupation</th>\n",
       "      <th>City_Category</th>\n",
       "      <th>Stay_In_Current_City_Years</th>\n",
       "      <th>Marital_Status</th>\n",
       "      <th>Product_Category_1</th>\n",
       "      <th>AvgPurchaseByOccupation</th>\n",
       "      <th>PurchaseAvgByGenderStatus</th>\n",
       "      <th>AvgPurchaseByCity</th>\n",
       "      <th>AvgPurchaseByProdCat</th>\n",
       "      <th>MeanProdPurchase</th>\n",
       "      <th>AvgUserPurchase</th>\n",
       "    </tr>\n",
       "  </thead>\n",
       "  <tbody>\n",
       "    <tr>\n",
       "      <th>0</th>\n",
       "      <td>1000001</td>\n",
       "      <td>P00069042</td>\n",
       "      <td>F</td>\n",
       "      <td>0-17</td>\n",
       "      <td>10</td>\n",
       "      <td>A</td>\n",
       "      <td>2</td>\n",
       "      <td>0</td>\n",
       "      <td>3</td>\n",
       "      <td>8959.0</td>\n",
       "      <td>8680.0</td>\n",
       "      <td>8912.0</td>\n",
       "      <td>10097.0</td>\n",
       "      <td>11870.863436</td>\n",
       "      <td>9545.514286</td>\n",
       "    </tr>\n",
       "    <tr>\n",
       "      <th>1</th>\n",
       "      <td>1000001</td>\n",
       "      <td>P00248942</td>\n",
       "      <td>F</td>\n",
       "      <td>0-17</td>\n",
       "      <td>10</td>\n",
       "      <td>A</td>\n",
       "      <td>2</td>\n",
       "      <td>0</td>\n",
       "      <td>1</td>\n",
       "      <td>8959.0</td>\n",
       "      <td>8680.0</td>\n",
       "      <td>8912.0</td>\n",
       "      <td>13606.0</td>\n",
       "      <td>16304.030981</td>\n",
       "      <td>9545.514286</td>\n",
       "    </tr>\n",
       "    <tr>\n",
       "      <th>2</th>\n",
       "      <td>1000001</td>\n",
       "      <td>P00087842</td>\n",
       "      <td>F</td>\n",
       "      <td>0-17</td>\n",
       "      <td>10</td>\n",
       "      <td>A</td>\n",
       "      <td>2</td>\n",
       "      <td>0</td>\n",
       "      <td>12</td>\n",
       "      <td>8959.0</td>\n",
       "      <td>8680.0</td>\n",
       "      <td>8912.0</td>\n",
       "      <td>1351.0</td>\n",
       "      <td>1237.892157</td>\n",
       "      <td>9545.514286</td>\n",
       "    </tr>\n",
       "    <tr>\n",
       "      <th>3</th>\n",
       "      <td>1000001</td>\n",
       "      <td>P00085442</td>\n",
       "      <td>F</td>\n",
       "      <td>0-17</td>\n",
       "      <td>10</td>\n",
       "      <td>A</td>\n",
       "      <td>2</td>\n",
       "      <td>0</td>\n",
       "      <td>12</td>\n",
       "      <td>8959.0</td>\n",
       "      <td>8680.0</td>\n",
       "      <td>8912.0</td>\n",
       "      <td>1351.0</td>\n",
       "      <td>1455.140762</td>\n",
       "      <td>9545.514286</td>\n",
       "    </tr>\n",
       "    <tr>\n",
       "      <th>4</th>\n",
       "      <td>1000002</td>\n",
       "      <td>P00285442</td>\n",
       "      <td>M</td>\n",
       "      <td>55+</td>\n",
       "      <td>16</td>\n",
       "      <td>C</td>\n",
       "      <td>4+</td>\n",
       "      <td>0</td>\n",
       "      <td>8</td>\n",
       "      <td>9394.0</td>\n",
       "      <td>9454.0</td>\n",
       "      <td>9720.0</td>\n",
       "      <td>7499.0</td>\n",
       "      <td>7692.763547</td>\n",
       "      <td>10525.610390</td>\n",
       "    </tr>\n",
       "  </tbody>\n",
       "</table>\n",
       "</div>"
      ],
      "text/plain": [
       "   User_ID Product_ID Gender   Age  Occupation City_Category  \\\n",
       "0  1000001  P00069042      F  0-17          10             A   \n",
       "1  1000001  P00248942      F  0-17          10             A   \n",
       "2  1000001  P00087842      F  0-17          10             A   \n",
       "3  1000001  P00085442      F  0-17          10             A   \n",
       "4  1000002  P00285442      M   55+          16             C   \n",
       "\n",
       "  Stay_In_Current_City_Years  Marital_Status  Product_Category_1  \\\n",
       "0                          2               0                   3   \n",
       "1                          2               0                   1   \n",
       "2                          2               0                  12   \n",
       "3                          2               0                  12   \n",
       "4                         4+               0                   8   \n",
       "\n",
       "   AvgPurchaseByOccupation  PurchaseAvgByGenderStatus  AvgPurchaseByCity  \\\n",
       "0                   8959.0                     8680.0             8912.0   \n",
       "1                   8959.0                     8680.0             8912.0   \n",
       "2                   8959.0                     8680.0             8912.0   \n",
       "3                   8959.0                     8680.0             8912.0   \n",
       "4                   9394.0                     9454.0             9720.0   \n",
       "\n",
       "   AvgPurchaseByProdCat  MeanProdPurchase  AvgUserPurchase  \n",
       "0               10097.0      11870.863436      9545.514286  \n",
       "1               13606.0      16304.030981      9545.514286  \n",
       "2                1351.0       1237.892157      9545.514286  \n",
       "3                1351.0       1455.140762      9545.514286  \n",
       "4                7499.0       7692.763547     10525.610390  "
      ]
     },
     "execution_count": 644,
     "metadata": {},
     "output_type": "execute_result"
    }
   ],
   "source": [
    "train_X=df1.drop('Purchase',axis=1)\n",
    "train_X.head()"
   ]
  },
  {
   "cell_type": "code",
   "execution_count": 19,
   "metadata": {
    "collapsed": true
   },
   "outputs": [],
   "source": [
    "# categorical columns \n",
    "categorical_columns = [\"User_ID\",\"Product_ID\", \"Gender\", \"Age\", \"Occupation\", \"City_Category\", \"Stay_In_Current_City_Years\",\n",
    "                       \"Marital_Status\", \"Product_Category_1\"]"
   ]
  },
  {
   "cell_type": "code",
   "execution_count": 20,
   "metadata": {
    "collapsed": true
   },
   "outputs": [],
   "source": [
    "#Convert all categorical to label encoder and str type\n",
    "for var in categorical_columns:\n",
    "    lb= preprocessing.LabelEncoder()\n",
    "    alldata=pd.concat((train_X[var],test1[var]),axis=0).astype('str')\n",
    "    lb.fit(alldata)\n",
    "    train_X[var]=lb.transform(train_X[var].astype('str'))\n",
    "    test1[var]=lb.transform(test1[var].astype('str'))\n",
    "    "
   ]
  },
  {
   "cell_type": "code",
   "execution_count": 21,
   "metadata": {},
   "outputs": [
    {
     "data": {
      "text/plain": [
       "User_ID                       0\n",
       "Product_ID                    0\n",
       "Gender                        0\n",
       "Age                           0\n",
       "Occupation                    0\n",
       "City_Category                 0\n",
       "Stay_In_Current_City_Years    0\n",
       "Marital_Status                0\n",
       "Product_Category_1            0\n",
       "AvgPurchaseByOccupation       0\n",
       "PurchaseAvgByGenderStatus     0\n",
       "AvgPurchaseByCity             0\n",
       "AvgPurchaseByProdCat          0\n",
       "MeanProdPurchase              0\n",
       "dtype: int64"
      ]
     },
     "execution_count": 21,
     "metadata": {},
     "output_type": "execute_result"
    }
   ],
   "source": [
    "test1.isnull().sum()\n",
    "#Change the NULL values i.e for products which did not exist in last month purchase to 0\n",
    "test1['MeanProdPurchase'].fillna(0,inplace=True)\n",
    "test1.isnull().sum()"
   ]
  },
  {
   "cell_type": "code",
   "execution_count": 22,
   "metadata": {
    "collapsed": true
   },
   "outputs": [],
   "source": [
    "#Keep the dataframe for use also, as most of the algo uses numpy conversion\n",
    "X_traindf=train_X\n",
    "X_testdf=test1\n",
    "Y_traindf=df1['Purchase']"
   ]
  },
  {
   "cell_type": "code",
   "execution_count": 23,
   "metadata": {
    "collapsed": true
   },
   "outputs": [],
   "source": [
    "train_X = np.array(train_X)\n",
    "test1 = np.array(test1)\n",
    "train_y=np.array(df1['Purchase'])"
   ]
  },
  {
   "cell_type": "code",
   "execution_count": 27,
   "metadata": {
    "collapsed": true
   },
   "outputs": [],
   "source": [
    "from sklearn.ensemble import GradientBoostingClassifier, GradientBoostingRegressor"
   ]
  },
  {
   "cell_type": "code",
   "execution_count": 169,
   "metadata": {},
   "outputs": [],
   "source": [
    "\n",
    "#est = GradientBoostingRegressor(n_estimators=1000, learning_rate=0.5,max_depth=7, max_features=5,random_state=42, loss='ls',verbose=1)\n",
    "#est.fit(train_X, train_y)"
   ]
  },
  {
   "cell_type": "code",
   "execution_count": 43,
   "metadata": {},
   "outputs": [
    {
     "ename": "NameError",
     "evalue": "name 'est' is not defined",
     "output_type": "error",
     "traceback": [
      "\u001b[0;31m\u001b[0m",
      "\u001b[0;31mNameError\u001b[0mTraceback (most recent call last)",
      "\u001b[0;32m<ipython-input-43-9dd56273959a>\u001b[0m in \u001b[0;36m<module>\u001b[0;34m()\u001b[0m\n\u001b[1;32m      1\u001b[0m \u001b[0;32mfrom\u001b[0m \u001b[0msklearn\u001b[0m\u001b[0;34m.\u001b[0m\u001b[0mmetrics\u001b[0m \u001b[0;32mimport\u001b[0m \u001b[0mmean_squared_error\u001b[0m\u001b[0;34m\u001b[0m\u001b[0m\n\u001b[0;32m----> 2\u001b[0;31m \u001b[0mnp\u001b[0m\u001b[0;34m.\u001b[0m\u001b[0msqrt\u001b[0m\u001b[0;34m(\u001b[0m\u001b[0mmean_squared_error\u001b[0m\u001b[0;34m(\u001b[0m\u001b[0mtrain_y\u001b[0m\u001b[0;34m,\u001b[0m \u001b[0mest\u001b[0m\u001b[0;34m.\u001b[0m\u001b[0mpredict\u001b[0m\u001b[0;34m(\u001b[0m\u001b[0mtrain_X\u001b[0m\u001b[0;34m)\u001b[0m\u001b[0;34m)\u001b[0m\u001b[0;34m)\u001b[0m\u001b[0;34m\u001b[0m\u001b[0m\n\u001b[0m",
      "\u001b[0;31mNameError\u001b[0m: name 'est' is not defined"
     ]
    }
   ],
   "source": [
    "from sklearn.metrics import mean_squared_error\n",
    "np.sqrt(mean_squared_error(train_y, est.predict(train_X)))"
   ]
  },
  {
   "cell_type": "code",
   "execution_count": 158,
   "metadata": {
    "collapsed": true
   },
   "outputs": [],
   "source": [
    "y_1 = est.predict(test1)\n",
    "test['Purchase']= y_1\n",
    "test.to_csv('final_gbr_newparam.csv', columns=['User_ID', 'Product_ID', 'Purchase'], index=False)"
   ]
  },
  {
   "cell_type": "code",
   "execution_count": 46,
   "metadata": {
    "collapsed": true
   },
   "outputs": [],
   "source": [
    "from sklearn.grid_search import GridSearchCV\n",
    "from sklearn.cross_validation import ShuffleSplit, train_test_split\n",
    "\n",
    "def GradientBooster(param_grid, n_jobs): \n",
    "    estimator = GradientBoostingRegressor() \n",
    "    cv = ShuffleSplit(X_traindf.shape[0], n_iter=10, test_size=0.2) \n",
    "    classifier = GridSearchCV(estimator=estimator, cv=cv, param_grid=param_grid, n_jobs=n_jobs,verbose=2)\n",
    "    classifier.fit(X_traindf, Y_traindf) \n",
    "    #Let's look at the best estimator that was found by GridSearchCV \n",
    "    print \"Best Estimator learned through GridSearch\" \n",
    "    print classifier.best_estimator_ \n",
    "    return cv, classifier.best_estimator_ "
   ]
  },
  {
   "cell_type": "code",
   "execution_count": 48,
   "metadata": {
    "collapsed": true
   },
   "outputs": [],
   "source": [
    "param_grid={'n_estimators':[100,500], \n",
    "            'learning_rate': [0.1, 0.05, 0.02, 0.01], \n",
    "            'max_depth': [6,4,7], \n",
    "            'min_samples_leaf':[3,5,9,17], \n",
    "            'max_features':[1.0,0.3,0.1] \n",
    "           } \n",
    "n_jobs=20 "
   ]
  },
  {
   "cell_type": "code",
   "execution_count": 168,
   "metadata": {},
   "outputs": [],
   "source": [
    "#cv,best_est=GradientBooster(param_grid, n_jobs)"
   ]
  },
  {
   "cell_type": "code",
   "execution_count": 54,
   "metadata": {},
   "outputs": [
    {
     "name": "stdout",
     "output_type": "stream",
     "text": [
      "Best Estimator Parameters\n",
      "---------------------------\n",
      "n_estimators: 500\n",
      "max_depth: 7\n",
      "Learning Rate: 0.1\n",
      "min_samples_leaf: 17\n",
      "\n",
      "Train R-squared: 0.78\n",
      "Train RMSE: 2376.10\n"
     ]
    }
   ],
   "source": [
    "#OK great, so we got back the best estimator parameters as follows: \n",
    "print \"Best Estimator Parameters\" \n",
    "print\"---------------------------\" \n",
    "print \"n_estimators: %d\" %best_est.n_estimators \n",
    "print \"max_depth: %d\" %best_est.max_depth \n",
    "print \"Learning Rate: %.1f\" %best_est.learning_rate \n",
    "print \"min_samples_leaf: %d\" %best_est.min_samples_leaf \n",
    "#print \"max_features: %.1f\" %best_est.max_features \n",
    "print \n",
    "print \"Train R-squared: %.2f\" %best_est.score(X_traindf,Y_traindf) \n",
    "print \"Train RMSE: %.2f\" %np.sqrt(mean_squared_error(Y_traindf, best_est.predict(X_traindf)))"
   ]
  },
  {
   "cell_type": "code",
   "execution_count": 53,
   "metadata": {
    "collapsed": true
   },
   "outputs": [],
   "source": [
    "y_1 = best_est.predict(X_testdf)\n",
    "test['Purchase'] = (y_1)\n",
    "test.to_csv('gbr_withfridcv.csv', columns=['User_ID', 'Product_ID', 'Purchase'], index=False)"
   ]
  },
  {
   "cell_type": "code",
   "execution_count": 56,
   "metadata": {
    "collapsed": true
   },
   "outputs": [],
   "source": [
    "#Now try xgb on these features\n",
    "import xgboost as xgb"
   ]
  },
  {
   "cell_type": "code",
   "execution_count": 186,
   "metadata": {
    "collapsed": true
   },
   "outputs": [],
   "source": [
    "params = {}\n",
    "params[\"objective\"] = \"reg:linear\"\n",
    "params[\"eta\"] = 0.09 #0.05 \n",
    "params[\"max_depth\"] = 8\n",
    "params[\"min_child_weight\"] = 15\n",
    "#params[\"subsample\"] = 0.6\n",
    "#params[\"colsample_bytree\"] = 0.7\n",
    "#params[\"scale_pos_weight\"] = 0.8\n",
    "#params[\"lambda\"] = 5\n",
    "params[\"early_stopping_rounds\"] = 10\n",
    "params[\"seed\"] = 42\n",
    "params[\"nthread\"] = 20\n",
    "plst = list(params.items())"
   ]
  },
  {
   "cell_type": "code",
   "execution_count": 155,
   "metadata": {},
   "outputs": [],
   "source": [
    "xgtrain = xgb.DMatrix(train_X, label=train_y)\n",
    "num_rounds = 2000\n",
    "model = xgb.train(plst, xgtrain, num_rounds,)"
   ]
  },
  {
   "cell_type": "code",
   "execution_count": 157,
   "metadata": {
    "collapsed": true
   },
   "outputs": [],
   "source": [
    "xgtest = xgb.DMatrix(test1)\n",
    "pred_test_y_xgb1 = model.predict(xgtest)"
   ]
  },
  {
   "cell_type": "code",
   "execution_count": 156,
   "metadata": {},
   "outputs": [
    {
     "data": {
      "text/plain": [
       "'[0]\\teval-rmse:2088.716553'"
      ]
     },
     "execution_count": 156,
     "metadata": {},
     "output_type": "execute_result"
    }
   ],
   "source": [
    "model.eval(xgtrain)"
   ]
  },
  {
   "cell_type": "code",
   "execution_count": 158,
   "metadata": {
    "collapsed": true
   },
   "outputs": [],
   "source": [
    "test['Purchase'] = (pred_test_y_xgb1)\n",
    "test.to_csv('final_xgb.csv', columns=['User_ID', 'Product_ID', 'Purchase'], index=False)"
   ]
  },
  {
   "cell_type": "code",
   "execution_count": 166,
   "metadata": {},
   "outputs": [
    {
     "data": {
      "text/plain": [
       "Index([u'User_ID', u'Product_ID', u'Gender', u'Age', u'Occupation',\n",
       "       u'City_Category', u'Stay_In_Current_City_Years', u'Marital_Status',\n",
       "       u'Product_Category_1', u'AvgPurchaseByOccupation',\n",
       "       u'PurchaseAvgByGenderStatus', u'AvgPurchaseByCity',\n",
       "       u'AvgPurchaseByProdCat', u'MeanProdPurchase'],\n",
       "      dtype='object')"
      ]
     },
     "execution_count": 166,
     "metadata": {},
     "output_type": "execute_result"
    }
   ],
   "source": [
    "X_traindf.columns"
   ]
  },
  {
   "cell_type": "code",
   "execution_count": 164,
   "metadata": {},
   "outputs": [
    {
     "data": {
      "text/plain": [
       "<matplotlib.axes._subplots.AxesSubplot at 0x7fd7fb8de7d0>"
      ]
     },
     "execution_count": 164,
     "metadata": {},
     "output_type": "execute_result"
    },
    {
     "data": {
      "image/png": "[encoded data removed]",
      "text/plain": [
       "<matplotlib.figure.Figure at 0x7fd7fcc53810>"
      ]
     },
     "metadata": {},
     "output_type": "display_data"
    }
   ],
   "source": [
    "xgb.plot_importance(model)"
   ]
  },
  {
   "cell_type": "code",
   "execution_count": null,
   "metadata": {
    "collapsed": true
   },
   "outputs": [],
   "source": [
    "#Additonal Feature Engineering\n",
    "#Add Product Cat 2 and 3 with Null = 0"
   ]
  },
  {
   "cell_type": "code",
   "execution_count": 664,
   "metadata": {
    "collapsed": true
   },
   "outputs": [],
   "source": [
    "df3=temp.copy()\n",
    "#df1.drop(['Product_Category_2','Product_Category_3'],axis=1,inplace=True)\n",
    "test3=testdf.copy()\n",
    "#test1.drop(['Product_Category_2','Product_Category_3'],axis=1,inplace=True)"
   ]
  },
  {
   "cell_type": "code",
   "execution_count": 665,
   "metadata": {
    "collapsed": true
   },
   "outputs": [],
   "source": [
    "train_X=df3.drop('Purchase',axis=1)\n",
    "#train_X.head()"
   ]
  },
  {
   "cell_type": "code",
   "execution_count": 666,
   "metadata": {},
   "outputs": [],
   "source": [
    "test3.isnull().sum()\n",
    "#Change the NULL values i.e for products which did not exist in last month purchase to 0\n",
    "test3['MeanProdPurchase'].fillna(0,inplace=True)\n",
    "#test3.isnull().sum()"
   ]
  },
  {
   "cell_type": "code",
   "execution_count": 668,
   "metadata": {},
   "outputs": [
    {
     "data": {
      "text/plain": [
       "User_ID                            0\n",
       "Product_ID                         0\n",
       "Gender                             0\n",
       "Age                                0\n",
       "Occupation                         0\n",
       "City_Category                      0\n",
       "Stay_In_Current_City_Years         0\n",
       "Marital_Status                     0\n",
       "Product_Category_1                 0\n",
       "Product_Category_2             72344\n",
       "Product_Category_3            162562\n",
       "AvgPurchaseByOccupation            0\n",
       "PurchaseAvgByGenderStatus          0\n",
       "AvgPurchaseByCity                  0\n",
       "AvgPurchaseByProdCat               0\n",
       "MeanProdPurchase                   0\n",
       "AvgUserPurchase                    0\n",
       "dtype: int64"
      ]
     },
     "execution_count": 668,
     "metadata": {},
     "output_type": "execute_result"
    }
   ],
   "source": [
    "test3.isnull().sum()"
   ]
  },
  {
   "cell_type": "code",
   "execution_count": 669,
   "metadata": {
    "collapsed": true
   },
   "outputs": [],
   "source": [
    "train_X['Product_Category_2'].fillna(0,inplace=True)\n",
    "train_X['Product_Category_3'].fillna(0,inplace=True)\n",
    "test3['Product_Category_2'].fillna(0,inplace=True)\n",
    "test3['Product_Category_3'].fillna(0,inplace=True)"
   ]
  },
  {
   "cell_type": "code",
   "execution_count": 670,
   "metadata": {
    "collapsed": true
   },
   "outputs": [],
   "source": [
    "# categorical columns \n",
    "categorical_columns = [\"User_ID\",\"Product_ID\", \"Gender\", \"Occupation\", \"City_Category\",\n",
    "                       \"Marital_Status\", \"Product_Category_1\",\"Product_Category_2\",\"Product_Category_3\"]"
   ]
  },
  {
   "cell_type": "code",
   "execution_count": 671,
   "metadata": {},
   "outputs": [],
   "source": [
    "#Convert all categorical to label encoder and str type\n",
    "for var in categorical_columns:\n",
    "    lb= preprocessing.LabelEncoder()\n",
    "    alldata=pd.concat((train_X[var],test3[var]),axis=0).astype('str')\n",
    "    lb.fit(alldata)\n",
    "    train_X[var]=lb.transform(train_X[var].astype('str'))\n",
    "    test3[var]=lb.transform(test3[var].astype('str'))\n",
    "    "
   ]
  },
  {
   "cell_type": "code",
   "execution_count": 425,
   "metadata": {},
   "outputs": [
    {
     "data": {
      "text/plain": [
       "array(['0-17', '55+', '26-35', '46-50', '51-55', '36-45', '18-25'], dtype=object)"
      ]
     },
     "execution_count": 425,
     "metadata": {},
     "output_type": "execute_result"
    }
   ],
   "source": [
    "train_X['Age'].unique()"
   ]
  },
  {
   "cell_type": "code",
   "execution_count": 672,
   "metadata": {},
   "outputs": [],
   "source": [
    "train_X.loc[train_X['Age']=='0-17','Age']=17\n",
    "train_X.loc[train_X['Age']=='18-25','Age']=25\n",
    "train_X.loc[train_X['Age']=='26-35','Age']=35\n",
    "train_X.loc[train_X['Age']=='36-45','Age']=45\n",
    "train_X.loc[train_X['Age']=='46-50','Age']=50\n",
    "train_X.loc[train_X['Age']=='51-55','Age']=55\n",
    "train_X.loc[train_X['Age']=='55+','Age']=60\n"
   ]
  },
  {
   "cell_type": "code",
   "execution_count": 673,
   "metadata": {},
   "outputs": [],
   "source": [
    "train_X['Age']=pd.to_numeric(train_X['Age'])"
   ]
  },
  {
   "cell_type": "code",
   "execution_count": 674,
   "metadata": {},
   "outputs": [
    {
     "data": {
      "text/plain": [
       "array(['2', '4+', '3', '1', '0'], dtype=object)"
      ]
     },
     "execution_count": 674,
     "metadata": {},
     "output_type": "execute_result"
    }
   ],
   "source": [
    "train_X['Stay_In_Current_City_Years'].unique()"
   ]
  },
  {
   "cell_type": "code",
   "execution_count": 675,
   "metadata": {},
   "outputs": [],
   "source": [
    "train_X.loc[train_X['Stay_In_Current_City_Years']=='0','Stay_In_Current_City_Years']=0\n",
    "train_X.loc[train_X['Stay_In_Current_City_Years']=='1','Stay_In_Current_City_Years']=1\n",
    "train_X.loc[train_X['Stay_In_Current_City_Years']=='2','Stay_In_Current_City_Years']=2\n",
    "train_X.loc[train_X['Stay_In_Current_City_Years']=='3','Stay_In_Current_City_Years']=3\n",
    "train_X.loc[train_X['Stay_In_Current_City_Years']=='4+','Stay_In_Current_City_Years']=4\n"
   ]
  },
  {
   "cell_type": "code",
   "execution_count": 676,
   "metadata": {
    "collapsed": true
   },
   "outputs": [],
   "source": [
    "train_X['Stay_In_Current_City_Years']=pd.to_numeric(train_X['Stay_In_Current_City_Years'])"
   ]
  },
  {
   "cell_type": "code",
   "execution_count": 677,
   "metadata": {},
   "outputs": [],
   "source": [
    "test3.loc[test3['Stay_In_Current_City_Years']=='0','Stay_In_Current_City_Years']=0\n",
    "test3.loc[test3['Stay_In_Current_City_Years']=='1','Stay_In_Current_City_Years']=1\n",
    "test3.loc[test3['Stay_In_Current_City_Years']=='2','Stay_In_Current_City_Years']=2\n",
    "test3.loc[test3['Stay_In_Current_City_Years']=='3','Stay_In_Current_City_Years']=3\n",
    "test3.loc[test3['Stay_In_Current_City_Years']=='4+','Stay_In_Current_City_Years']=4"
   ]
  },
  {
   "cell_type": "code",
   "execution_count": 678,
   "metadata": {},
   "outputs": [],
   "source": [
    "test3.loc[test3['Age']=='0-17','Age']=17\n",
    "test3.loc[test3['Age']=='18-25','Age']=25\n",
    "test3.loc[test3['Age']=='26-35','Age']=35\n",
    "test3.loc[test3['Age']=='36-45','Age']=45\n",
    "test3.loc[test3['Age']=='46-50','Age']=50\n",
    "test3.loc[test3['Age']=='51-55','Age']=55\n",
    "test3.loc[test3['Age']=='55+','Age']=60"
   ]
  },
  {
   "cell_type": "code",
   "execution_count": 679,
   "metadata": {},
   "outputs": [],
   "source": [
    "train_X = np.array(train_X)\n",
    "test3 = np.array(test3)\n",
    "train_y=np.array(df1['Purchase'])"
   ]
  },
  {
   "cell_type": "code",
   "execution_count": 680,
   "metadata": {
    "collapsed": true
   },
   "outputs": [],
   "source": [
    "params = {}\n",
    "params[\"objective\"] = \"reg:linear\"\n",
    "params[\"eta\"] = 0.1 #,0.05] \n",
    "params[\"max_depth\"] = 8\n",
    "params[\"min_child_weight\"] = 1\n",
    "#params[\"subsample\"] = 0.6\n",
    "#params[\"colsample_bytree\"] = 0.7\n",
    "#params[\"scale_pos_weight\"] = 0.8\n",
    "params[\"lambda\"] = 10\n",
    "params[\"early_stopping_rounds\"] = 10\n",
    "params[\"seed\"] = 42\n",
    "params[\"nthread\"] = 30\n",
    "plst = list(params.items())"
   ]
  },
  {
   "cell_type": "code",
   "execution_count": 681,
   "metadata": {},
   "outputs": [],
   "source": [
    "xgtrain = xgb.DMatrix(train_X, label=train_y)\n",
    "num_rounds = 1500\n",
    "model = xgb.train(plst, xgtrain, num_rounds)\n",
    "#model=xgb.cv(plst, xgtrain, num_rounds,nfold =10)"
   ]
  },
  {
   "cell_type": "code",
   "execution_count": 682,
   "metadata": {},
   "outputs": [
    {
     "data": {
      "text/plain": [
       "'[0]\\teval-rmse:2068.371094'"
      ]
     },
     "execution_count": 682,
     "metadata": {},
     "output_type": "execute_result"
    }
   ],
   "source": [
    "model.eval(xgtrain)"
   ]
  },
  {
   "cell_type": "code",
   "execution_count": 683,
   "metadata": {},
   "outputs": [],
   "source": [
    "xgtest = xgb.DMatrix(test3)\n",
    "pred_test_y_xgb1 = model.predict(xgtest)"
   ]
  },
  {
   "cell_type": "code",
   "execution_count": 685,
   "metadata": {},
   "outputs": [],
   "source": [
    "test['Purchase'] = (pred_test_y_xgb1)\n",
    "test.loc[test['Purchase']<=0,'Purchase']=0\n",
    "test.loc[test['Purchase']>= 24000,'Purchase']=24000\n",
    "\n",
    "test.to_csv('final_xgb_withProduct2_3_NumericAge2.csv', columns=['User_ID', 'Product_ID', 'Purchase'], index=False)"
   ]
  },
  {
   "cell_type": "code",
   "execution_count": 355,
   "metadata": {},
   "outputs": [
    {
     "data": {
      "text/plain": [
       "34898     24500.000000\n",
       "35073     24521.826172\n",
       "38957     24500.000000\n",
       "81828     24409.806641\n",
       "145105    24082.710938\n",
       "165164    24187.318359\n",
       "198765    24568.419922\n",
       "Name: Purchase, dtype: float32"
      ]
     },
     "execution_count": 355,
     "metadata": {},
     "output_type": "execute_result"
    }
   ],
   "source": [
    "#test['Purchase'].describe()\n",
    "test.loc[test['Purchase']>= 24000,'Purchase']\n",
    "#train_y.max()"
   ]
  },
  {
   "cell_type": "code",
   "execution_count": 631,
   "metadata": {},
   "outputs": [
    {
     "data": {
      "text/plain": [
       "<matplotlib.axes._subplots.AxesSubplot at 0x7fd7edf36390>"
      ]
     },
     "execution_count": 631,
     "metadata": {},
     "output_type": "execute_result"
    },
    {
     "data": {
      "image/png": "[encoded data removed]",
      "text/plain": [
       "<matplotlib.figure.Figure at 0x7fd7d9ea4510>"
      ]
     },
     "metadata": {},
     "output_type": "display_data"
    }
   ],
   "source": [
    "xgb.plot_importance(model)"
   ]
  },
  {
   "cell_type": "code",
   "execution_count": 439,
   "metadata": {
    "collapsed": true
   },
   "outputs": [],
   "source": [
    "cv_params = {'max_depth': [3,5,7], 'min_child_weight': [1,3,5]}#, 'eta':[0.1,0.05,0.001]}\n",
    "ind_params = {'learning_rate': 0.1, 'n_estimators': 1000, 'seed':42, 'subsample': 0.8, 'colsample_bytree': 0.8, \n",
    "             'objective': 'reg:linear', }\n",
    "optimized_GBM = GridSearchCV(xgb.XGBRegressor(**ind_params), cv_params, cv = 5, n_jobs = 40) \n"
   ]
  },
  {
   "cell_type": "code",
   "execution_count": null,
   "metadata": {},
   "outputs": [],
   "source": [
    "optimized_GBM.fit(train_X,train_y)"
   ]
  },
  {
   "cell_type": "code",
   "execution_count": 443,
   "metadata": {},
   "outputs": [
    {
     "data": {
      "text/plain": [
       "[mean: 0.73841, std: 0.01027, params: {'max_depth': 3, 'min_child_weight': 1},\n",
       " mean: 0.73845, std: 0.01011, params: {'max_depth': 3, 'min_child_weight': 3},\n",
       " mean: 0.73842, std: 0.01011, params: {'max_depth': 3, 'min_child_weight': 5},\n",
       " mean: 0.75167, std: 0.00964, params: {'max_depth': 5, 'min_child_weight': 1},\n",
       " mean: 0.75178, std: 0.00958, params: {'max_depth': 5, 'min_child_weight': 3},\n",
       " mean: 0.75161, std: 0.00969, params: {'max_depth': 5, 'min_child_weight': 5},\n",
       " mean: 0.75833, std: 0.00941, params: {'max_depth': 7, 'min_child_weight': 1},\n",
       " mean: 0.75838, std: 0.00959, params: {'max_depth': 7, 'min_child_weight': 3},\n",
       " mean: 0.75828, std: 0.00965, params: {'max_depth': 7, 'min_child_weight': 5}]"
      ]
     },
     "execution_count": 443,
     "metadata": {},
     "output_type": "execute_result"
    }
   ],
   "source": [
    "optimized_GBM.grid_scores_"
   ]
  }
 ],
 "metadata": {
  "kernelspec": {
   "display_name": "Python 2",
   "language": "python",
   "name": "python2"
  },
  "language_info": {
   "codemirror_mode": {
    "name": "ipython",
    "version": 2
   },
   "file_extension": ".py",
   "mimetype": "text/x-python",
   "name": "python",
   "nbconvert_exporter": "python",
   "pygments_lexer": "ipython2",
   "version": "2.7.13"
  }
 },
 "nbformat": 4,
 "nbformat_minor": 2
}
